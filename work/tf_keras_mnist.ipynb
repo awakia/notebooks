{
 "cells": [
  {
   "cell_type": "code",
   "execution_count": 1,
   "metadata": {},
   "outputs": [],
   "source": [
    "import numpy as np\n",
    "from matplotlib import pyplot as plt\n",
    "from PIL import Image\n",
    "import tensorflow as tf"
   ]
  },
  {
   "cell_type": "code",
   "execution_count": 3,
   "metadata": {},
   "outputs": [],
   "source": [
    "mnist = tf.keras.datasets.mnist\n",
    "(x_train, y_train), (x_test, y_test) = mnist.load_data()"
   ]
  },
  {
   "cell_type": "code",
   "execution_count": 4,
   "metadata": {},
   "outputs": [],
   "source": [
    "x_train, x_test = x_train / 255.0, x_test / 255.0\n",
    "x_train = np.expand_dims(x_train, axis=-1)\n",
    "x_test = np.expand_dims(x_test, axis=-1)"
   ]
  },
  {
   "cell_type": "code",
   "execution_count": 5,
   "metadata": {},
   "outputs": [],
   "source": [
    "model = tf.keras.models.Sequential([\n",
    "  tf.keras.layers.Flatten(),\n",
    "  tf.keras.layers.Dense(512, activation=tf.nn.relu),\n",
    "  tf.keras.layers.Dropout(0.2),\n",
    "  tf.keras.layers.Dense(10, activation=tf.nn.softmax)\n",
    "])"
   ]
  },
  {
   "cell_type": "code",
   "execution_count": 6,
   "metadata": {},
   "outputs": [],
   "source": [
    "model.compile(optimizer='adam',\n",
    "              loss='sparse_categorical_crossentropy',\n",
    "              metrics=['accuracy'])"
   ]
  },
  {
   "cell_type": "code",
   "execution_count": 8,
   "metadata": {},
   "outputs": [
    {
     "name": "stdout",
     "output_type": "stream",
     "text": [
      "Train on 60000 samples, validate on 10000 samples\n",
      "Epoch 1/10\n",
      "60000/60000 [==============================] - 15s 251us/step - loss: 0.0276 - acc: 0.9914 - val_loss: 0.0805 - val_acc: 0.9767\n",
      "Epoch 2/10\n",
      "60000/60000 [==============================] - 15s 253us/step - loss: 0.0219 - acc: 0.9929 - val_loss: 0.0836 - val_acc: 0.9773\n",
      "Epoch 3/10\n",
      "60000/60000 [==============================] - 14s 240us/step - loss: 0.0171 - acc: 0.9943 - val_loss: 0.0724 - val_acc: 0.9802\n",
      "Epoch 4/10\n",
      "60000/60000 [==============================] - 14s 238us/step - loss: 0.0147 - acc: 0.9955 - val_loss: 0.0821 - val_acc: 0.9790\n",
      "Epoch 5/10\n",
      "60000/60000 [==============================] - 16s 265us/step - loss: 0.0138 - acc: 0.9951 - val_loss: 0.0671 - val_acc: 0.9840\n",
      "Epoch 6/10\n",
      "60000/60000 [==============================] - 15s 242us/step - loss: 0.0090 - acc: 0.9970 - val_loss: 0.0977 - val_acc: 0.9791\n",
      "Epoch 7/10\n",
      "60000/60000 [==============================] - 15s 256us/step - loss: 0.0135 - acc: 0.9957 - val_loss: 0.0754 - val_acc: 0.9813\n",
      "Epoch 8/10\n",
      "60000/60000 [==============================] - 15s 252us/step - loss: 0.0069 - acc: 0.9979 - val_loss: 0.0908 - val_acc: 0.9806\n",
      "Epoch 9/10\n",
      "60000/60000 [==============================] - 16s 262us/step - loss: 0.0094 - acc: 0.9968 - val_loss: 0.0869 - val_acc: 0.9834\n",
      "Epoch 10/10\n",
      "60000/60000 [==============================] - 17s 288us/step - loss: 0.0078 - acc: 0.9975 - val_loss: 0.0929 - val_acc: 0.9814\n"
     ]
    },
    {
     "data": {
      "text/plain": [
       "<tensorflow.python.keras.callbacks.History at 0x118f04ef0>"
      ]
     },
     "execution_count": 8,
     "metadata": {},
     "output_type": "execute_result"
    }
   ],
   "source": [
    "model.fit(x_train, y_train, epochs=10, validation_data=(x_test, y_test))"
   ]
  },
  {
   "cell_type": "code",
   "execution_count": 9,
   "metadata": {},
   "outputs": [
    {
     "name": "stdout",
     "output_type": "stream",
     "text": [
      "10000/10000 [==============================] - 0s 40us/step\n"
     ]
    },
    {
     "data": {
      "text/plain": [
       "[0.0929182697965669, 0.9814]"
      ]
     },
     "execution_count": 9,
     "metadata": {},
     "output_type": "execute_result"
    }
   ],
   "source": [
    "model.evaluate(x_test, y_test)"
   ]
  },
  {
   "cell_type": "code",
   "execution_count": 11,
   "metadata": {},
   "outputs": [
    {
     "name": "stdout",
     "output_type": "stream",
     "text": [
      "Train on 60000 samples, validate on 10000 samples\n",
      "Epoch 1/10\n",
      "60000/60000 [==============================] - 43s 710us/step - loss: 0.1347 - acc: 0.9589 - val_loss: 0.0499 - val_acc: 0.9847\n",
      "Epoch 2/10\n",
      "60000/60000 [==============================] - 42s 694us/step - loss: 0.0493 - acc: 0.9846 - val_loss: 0.0495 - val_acc: 0.9846\n",
      "Epoch 3/10\n",
      "60000/60000 [==============================] - 41s 691us/step - loss: 0.0331 - acc: 0.9894 - val_loss: 0.0417 - val_acc: 0.9869\n",
      "Epoch 4/10\n",
      "60000/60000 [==============================] - 41s 691us/step - loss: 0.0218 - acc: 0.9929 - val_loss: 0.0496 - val_acc: 0.9849\n",
      "Epoch 5/10\n",
      "60000/60000 [==============================] - 42s 705us/step - loss: 0.0150 - acc: 0.9948 - val_loss: 0.0457 - val_acc: 0.9870\n",
      "Epoch 6/10\n",
      "60000/60000 [==============================] - 42s 693us/step - loss: 0.0108 - acc: 0.9964 - val_loss: 0.0593 - val_acc: 0.9850\n",
      "Epoch 7/10\n",
      "60000/60000 [==============================] - 42s 694us/step - loss: 0.0083 - acc: 0.9974 - val_loss: 0.0540 - val_acc: 0.9867\n",
      "Epoch 8/10\n",
      "60000/60000 [==============================] - 42s 694us/step - loss: 0.0067 - acc: 0.9976 - val_loss: 0.0601 - val_acc: 0.9869\n",
      "Epoch 9/10\n",
      "60000/60000 [==============================] - 41s 689us/step - loss: 0.0063 - acc: 0.9979 - val_loss: 0.0604 - val_acc: 0.9866\n",
      "Epoch 10/10\n",
      "60000/60000 [==============================] - 41s 688us/step - loss: 0.0054 - acc: 0.9983 - val_loss: 0.0798 - val_acc: 0.9840\n"
     ]
    },
    {
     "data": {
      "text/plain": [
       "<tensorflow.python.keras.callbacks.History at 0x1a58653e48>"
      ]
     },
     "execution_count": 11,
     "metadata": {},
     "output_type": "execute_result"
    }
   ],
   "source": [
    "modelConv = tf.keras.models.Sequential([\n",
    "  tf.keras.layers.Conv2D(32, kernel_size=(3,3), padding='same', activation=tf.nn.relu, input_shape=(28, 28, 1)),\n",
    "  tf.keras.layers.Conv2D(32, kernel_size=(3,3), padding='same', activation=tf.nn.relu),\n",
    "  tf.keras.layers.Flatten(),\n",
    "  tf.keras.layers.Dense(10, activation=tf.nn.softmax)\n",
    "])\n",
    "modelConv.compile(optimizer='adam',\n",
    "              loss='sparse_categorical_crossentropy',\n",
    "              metrics=['accuracy'])\n",
    "modelConv.fit(x_train, y_train, epochs=10, validation_data=(x_test, y_test))"
   ]
  },
  {
   "cell_type": "code",
   "execution_count": null,
   "metadata": {},
   "outputs": [
    {
     "name": "stdout",
     "output_type": "stream",
     "text": [
      "Train on 60000 samples, validate on 10000 samples\n",
      "Epoch 1/10\n",
      "60000/60000 [==============================] - 105s 2ms/step - loss: 0.1115 - acc: 0.9646 - val_loss: 0.0391 - val_acc: 0.9875\n",
      "Epoch 2/10\n",
      "60000/60000 [==============================] - 108s 2ms/step - loss: 0.0401 - acc: 0.9878 - val_loss: 0.0316 - val_acc: 0.9895\n",
      "Epoch 3/10\n",
      "60000/60000 [==============================] - 105s 2ms/step - loss: 0.0292 - acc: 0.9908 - val_loss: 0.0375 - val_acc: 0.9885\n",
      "Epoch 4/10\n",
      "60000/60000 [==============================] - 106s 2ms/step - loss: 0.0216 - acc: 0.9934 - val_loss: 0.0283 - val_acc: 0.9916\n",
      "Epoch 5/10\n",
      "60000/60000 [==============================] - 104s 2ms/step - loss: 0.0186 - acc: 0.9944 - val_loss: 0.0302 - val_acc: 0.9909\n",
      "Epoch 6/10\n",
      " 7104/60000 [==>...........................] - ETA: 1:37 - loss: 0.0089 - acc: 0.9965"
     ]
    }
   ],
   "source": [
    "modelConv = tf.keras.models.Sequential([\n",
    "  tf.keras.layers.Conv2D(32, kernel_size=(3,3), padding='same', activation=tf.nn.relu, input_shape=(28, 28, 1)),\n",
    "  tf.keras.layers.Conv2D(32, kernel_size=(3,3), padding='same', activation=tf.nn.relu),\n",
    "  tf.keras.layers.MaxPool2D(pool_size=(2,2)),\n",
    "  tf.keras.layers.Conv2D(64, kernel_size=(3,3), padding='same', activation=tf.nn.relu),\n",
    "  tf.keras.layers.Conv2D(64, kernel_size=(3,3), padding='same', activation=tf.nn.relu),\n",
    "  tf.keras.layers.MaxPool2D(pool_size=(2,2)),\n",
    "  tf.keras.layers.Flatten(),\n",
    "  tf.keras.layers.Dense(512, activation=tf.nn.relu),\n",
    "  tf.keras.layers.Dropout(0.3),\n",
    "  tf.keras.layers.Dense(10, activation=tf.nn.softmax)\n",
    "])\n",
    "modelConv.compile(optimizer='adam',\n",
    "              loss='sparse_categorical_crossentropy',\n",
    "              metrics=['accuracy'])\n",
    "modelConv.fit(x_train, y_train, epochs=10, validation_data=(x_test, y_test))"
   ]
  },
  {
   "cell_type": "code",
   "execution_count": 22,
   "metadata": {},
   "outputs": [
    {
     "name": "stdout",
     "output_type": "stream",
     "text": [
      "Train on 60000 samples, validate on 10000 samples\n",
      "Epoch 1/10\n",
      "60000/60000 [==============================] - 46s 772us/step - loss: 0.2176 - acc: 0.9316 - val_loss: 0.0703 - val_acc: 0.9787\n",
      "Epoch 2/10\n",
      "60000/60000 [==============================] - 44s 732us/step - loss: 0.0741 - acc: 0.9776 - val_loss: 0.0509 - val_acc: 0.9846\n",
      "Epoch 3/10\n",
      "60000/60000 [==============================] - 44s 733us/step - loss: 0.0547 - acc: 0.9831 - val_loss: 0.0432 - val_acc: 0.9873\n",
      "Epoch 4/10\n",
      "60000/60000 [==============================] - 44s 737us/step - loss: 0.0453 - acc: 0.9858 - val_loss: 0.0353 - val_acc: 0.9889\n",
      "Epoch 5/10\n",
      "60000/60000 [==============================] - 51s 849us/step - loss: 0.0374 - acc: 0.9885 - val_loss: 0.0494 - val_acc: 0.9844\n",
      "Epoch 6/10\n",
      "60000/60000 [==============================] - 47s 778us/step - loss: 0.0312 - acc: 0.9900 - val_loss: 0.0359 - val_acc: 0.9901\n",
      "Epoch 7/10\n",
      "60000/60000 [==============================] - 45s 753us/step - loss: 0.0284 - acc: 0.9911 - val_loss: 0.0343 - val_acc: 0.9905\n",
      "Epoch 8/10\n",
      "60000/60000 [==============================] - 44s 738us/step - loss: 0.0239 - acc: 0.9921 - val_loss: 0.0382 - val_acc: 0.9893\n",
      "Epoch 9/10\n",
      "60000/60000 [==============================] - 44s 735us/step - loss: 0.0223 - acc: 0.9931 - val_loss: 0.0412 - val_acc: 0.9891\n",
      "Epoch 10/10\n",
      "60000/60000 [==============================] - 44s 736us/step - loss: 0.0194 - acc: 0.9934 - val_loss: 0.0401 - val_acc: 0.9892\n"
     ]
    },
    {
     "data": {
      "text/plain": [
       "<tensorflow.python.keras.callbacks.History at 0x1b74961940>"
      ]
     },
     "execution_count": 22,
     "metadata": {},
     "output_type": "execute_result"
    }
   ],
   "source": [
    "# https://arxiv.org/abs/1202.2745\n",
    "modelConv = tf.keras.models.Sequential([\n",
    "  tf.keras.layers.Conv2D(20, kernel_size=(4,4), activation=tf.nn.relu, input_shape=(28, 28, 1)),\n",
    "  tf.keras.layers.MaxPool2D(pool_size=(2,2)),\n",
    "  tf.keras.layers.Conv2D(40, kernel_size=(5,5), activation=tf.nn.relu),\n",
    "  tf.keras.layers.MaxPool2D(pool_size=(3,3)),\n",
    "  tf.keras.layers.Flatten(),\n",
    "  tf.keras.layers.Dense(150, activation=tf.nn.relu),\n",
    "  tf.keras.layers.Dropout(0.2),\n",
    "  tf.keras.layers.Dense(10, activation=tf.nn.softmax)\n",
    "])\n",
    "modelConv.compile(optimizer='adam',\n",
    "              loss='sparse_categorical_crossentropy',\n",
    "              metrics=['accuracy'])\n",
    "modelConv.fit(x_train, y_train, epochs=10, validation_data=(x_test, y_test))"
   ]
  },
  {
   "cell_type": "code",
   "execution_count": 18,
   "metadata": {},
   "outputs": [
    {
     "ename": "ValueError",
     "evalue": "When setting`include_top=True` and loading `imagenet` weights, `input_shape` should be (224, 224, 3).",
     "output_type": "error",
     "traceback": [
      "\u001b[0;31m---------------------------------------------------------------------------\u001b[0m",
      "\u001b[0;31mValueError\u001b[0m                                Traceback (most recent call last)",
      "\u001b[0;32m<ipython-input-18-05910d22dd72>\u001b[0m in \u001b[0;36m<module>\u001b[0;34m\u001b[0m\n\u001b[1;32m      8\u001b[0m     \u001b[0;31m# weights=None,\u001b[0m\u001b[0;34m\u001b[0m\u001b[0;34m\u001b[0m\u001b[0;34m\u001b[0m\u001b[0m\n\u001b[1;32m      9\u001b[0m     \u001b[0minput_shape\u001b[0m\u001b[0;34m=\u001b[0m\u001b[0;34m(\u001b[0m\u001b[0;36m32\u001b[0m\u001b[0;34m,\u001b[0m \u001b[0;36m32\u001b[0m\u001b[0;34m,\u001b[0m \u001b[0;36m1\u001b[0m\u001b[0;34m)\u001b[0m\u001b[0;34m,\u001b[0m\u001b[0;34m\u001b[0m\u001b[0;34m\u001b[0m\u001b[0m\n\u001b[0;32m---> 10\u001b[0;31m     \u001b[0mclasses\u001b[0m\u001b[0;34m=\u001b[0m\u001b[0;36m1000\u001b[0m\u001b[0;34m\u001b[0m\u001b[0;34m\u001b[0m\u001b[0m\n\u001b[0m\u001b[1;32m     11\u001b[0m )(x)\n\u001b[1;32m     12\u001b[0m \u001b[0mx\u001b[0m \u001b[0;34m=\u001b[0m \u001b[0mtf\u001b[0m\u001b[0;34m.\u001b[0m\u001b[0mkeras\u001b[0m\u001b[0;34m.\u001b[0m\u001b[0mlayers\u001b[0m\u001b[0;34m.\u001b[0m\u001b[0mDropout\u001b[0m\u001b[0;34m(\u001b[0m\u001b[0;36m0.3\u001b[0m\u001b[0;34m)\u001b[0m\u001b[0;34m(\u001b[0m\u001b[0mx\u001b[0m\u001b[0;34m)\u001b[0m\u001b[0;34m\u001b[0m\u001b[0;34m\u001b[0m\u001b[0m\n",
      "\u001b[0;32m~/.pyenv/versions/miniconda3-latest/envs/ml_env/lib/python3.6/site-packages/tensorflow/python/keras/applications/__init__.py\u001b[0m in \u001b[0;36mwrapper\u001b[0;34m(*args, **kwargs)\u001b[0m\n\u001b[1;32m     68\u001b[0m       \u001b[0mkwargs\u001b[0m\u001b[0;34m[\u001b[0m\u001b[0;34m'models'\u001b[0m\u001b[0;34m]\u001b[0m \u001b[0;34m=\u001b[0m \u001b[0mmodels\u001b[0m\u001b[0;34m\u001b[0m\u001b[0;34m\u001b[0m\u001b[0m\n\u001b[1;32m     69\u001b[0m       \u001b[0mkwargs\u001b[0m\u001b[0;34m[\u001b[0m\u001b[0;34m'utils'\u001b[0m\u001b[0;34m]\u001b[0m \u001b[0;34m=\u001b[0m \u001b[0mutils\u001b[0m\u001b[0;34m\u001b[0m\u001b[0;34m\u001b[0m\u001b[0m\n\u001b[0;32m---> 70\u001b[0;31m     \u001b[0;32mreturn\u001b[0m \u001b[0mbase_fun\u001b[0m\u001b[0;34m(\u001b[0m\u001b[0;34m*\u001b[0m\u001b[0margs\u001b[0m\u001b[0;34m,\u001b[0m \u001b[0;34m**\u001b[0m\u001b[0mkwargs\u001b[0m\u001b[0;34m)\u001b[0m\u001b[0;34m\u001b[0m\u001b[0;34m\u001b[0m\u001b[0m\n\u001b[0m\u001b[1;32m     71\u001b[0m   \u001b[0;32mreturn\u001b[0m \u001b[0mwrapper\u001b[0m\u001b[0;34m\u001b[0m\u001b[0;34m\u001b[0m\u001b[0m\n\u001b[1;32m     72\u001b[0m \u001b[0;34m\u001b[0m\u001b[0m\n",
      "\u001b[0;32m~/.pyenv/versions/miniconda3-latest/envs/ml_env/lib/python3.6/site-packages/tensorflow/python/keras/applications/vgg16.py\u001b[0m in \u001b[0;36mVGG16\u001b[0;34m(*args, **kwargs)\u001b[0m\n\u001b[1;32m     30\u001b[0m \u001b[0;34m@\u001b[0m\u001b[0mkeras_modules_injection\u001b[0m\u001b[0;34m\u001b[0m\u001b[0;34m\u001b[0m\u001b[0m\n\u001b[1;32m     31\u001b[0m \u001b[0;32mdef\u001b[0m \u001b[0mVGG16\u001b[0m\u001b[0;34m(\u001b[0m\u001b[0;34m*\u001b[0m\u001b[0margs\u001b[0m\u001b[0;34m,\u001b[0m \u001b[0;34m**\u001b[0m\u001b[0mkwargs\u001b[0m\u001b[0;34m)\u001b[0m\u001b[0;34m:\u001b[0m\u001b[0;34m\u001b[0m\u001b[0;34m\u001b[0m\u001b[0m\n\u001b[0;32m---> 32\u001b[0;31m   \u001b[0;32mreturn\u001b[0m \u001b[0mvgg16\u001b[0m\u001b[0;34m.\u001b[0m\u001b[0mVGG16\u001b[0m\u001b[0;34m(\u001b[0m\u001b[0;34m*\u001b[0m\u001b[0margs\u001b[0m\u001b[0;34m,\u001b[0m \u001b[0;34m**\u001b[0m\u001b[0mkwargs\u001b[0m\u001b[0;34m)\u001b[0m\u001b[0;34m\u001b[0m\u001b[0;34m\u001b[0m\u001b[0m\n\u001b[0m\u001b[1;32m     33\u001b[0m \u001b[0;34m\u001b[0m\u001b[0m\n\u001b[1;32m     34\u001b[0m \u001b[0;34m\u001b[0m\u001b[0m\n",
      "\u001b[0;32m~/.pyenv/versions/miniconda3-latest/envs/ml_env/lib/python3.6/site-packages/keras_applications/vgg16.py\u001b[0m in \u001b[0;36mVGG16\u001b[0;34m(include_top, weights, input_tensor, input_shape, pooling, classes, **kwargs)\u001b[0m\n\u001b[1;32m     97\u001b[0m                                       \u001b[0mdata_format\u001b[0m\u001b[0;34m=\u001b[0m\u001b[0mbackend\u001b[0m\u001b[0;34m.\u001b[0m\u001b[0mimage_data_format\u001b[0m\u001b[0;34m(\u001b[0m\u001b[0;34m)\u001b[0m\u001b[0;34m,\u001b[0m\u001b[0;34m\u001b[0m\u001b[0;34m\u001b[0m\u001b[0m\n\u001b[1;32m     98\u001b[0m                                       \u001b[0mrequire_flatten\u001b[0m\u001b[0;34m=\u001b[0m\u001b[0minclude_top\u001b[0m\u001b[0;34m,\u001b[0m\u001b[0;34m\u001b[0m\u001b[0;34m\u001b[0m\u001b[0m\n\u001b[0;32m---> 99\u001b[0;31m                                       weights=weights)\n\u001b[0m\u001b[1;32m    100\u001b[0m \u001b[0;34m\u001b[0m\u001b[0m\n\u001b[1;32m    101\u001b[0m     \u001b[0;32mif\u001b[0m \u001b[0minput_tensor\u001b[0m \u001b[0;32mis\u001b[0m \u001b[0;32mNone\u001b[0m\u001b[0;34m:\u001b[0m\u001b[0;34m\u001b[0m\u001b[0;34m\u001b[0m\u001b[0m\n",
      "\u001b[0;32m~/.pyenv/versions/miniconda3-latest/envs/ml_env/lib/python3.6/site-packages/keras_applications/imagenet_utils.py\u001b[0m in \u001b[0;36m_obtain_input_shape\u001b[0;34m(input_shape, default_size, min_size, data_format, require_flatten, weights)\u001b[0m\n\u001b[1;32m    290\u001b[0m                                  \u001b[0;34m'and loading `imagenet` weights, '\u001b[0m\u001b[0;34m\u001b[0m\u001b[0;34m\u001b[0m\u001b[0m\n\u001b[1;32m    291\u001b[0m                                  \u001b[0;34m'`input_shape` should be '\u001b[0m \u001b[0;34m+\u001b[0m\u001b[0;34m\u001b[0m\u001b[0;34m\u001b[0m\u001b[0m\n\u001b[0;32m--> 292\u001b[0;31m                                  str(default_shape) + '.')\n\u001b[0m\u001b[1;32m    293\u001b[0m         \u001b[0;32mreturn\u001b[0m \u001b[0mdefault_shape\u001b[0m\u001b[0;34m\u001b[0m\u001b[0;34m\u001b[0m\u001b[0m\n\u001b[1;32m    294\u001b[0m     \u001b[0;32mif\u001b[0m \u001b[0minput_shape\u001b[0m\u001b[0;34m:\u001b[0m\u001b[0;34m\u001b[0m\u001b[0;34m\u001b[0m\u001b[0m\n",
      "\u001b[0;31mValueError\u001b[0m: When setting`include_top=True` and loading `imagenet` weights, `input_shape` should be (224, 224, 3)."
     ]
    }
   ],
   "source": [
    "def pad(image):\n",
    "    return tf.pad(image, [[0, 0], [2, 2], [2, 2], [0, 0]])\n",
    "\n",
    "input = tf.keras.layers.Input(shape=(28, 28, 1))\n",
    "x = tf.keras.layers.Lambda(pad)(input)\n",
    "x = tf.keras.applications.VGG16(\n",
    "    include_top=True,\n",
    "    weights=None,\n",
    "    input_shape=(32, 32, 1),\n",
    "    classes=10\n",
    ")(x)\n",
    "model = tf.keras.Model(input, x)\n",
    "\n",
    "model.compile(optimizer='adam',\n",
    "              loss='sparse_categorical_crossentropy',\n",
    "              metrics=['accuracy'])\n",
    "model.fit(x_train, y_train, epochs=10, validation_data=(x_test, y_test))"
   ]
  },
  {
   "cell_type": "code",
   "execution_count": null,
   "metadata": {},
   "outputs": [],
   "source": []
  }
 ],
 "metadata": {
  "kernelspec": {
   "display_name": "Python 3",
   "language": "python",
   "name": "python3"
  },
  "language_info": {
   "codemirror_mode": {
    "name": "ipython",
    "version": 3
   },
   "file_extension": ".py",
   "mimetype": "text/x-python",
   "name": "python",
   "nbconvert_exporter": "python",
   "pygments_lexer": "ipython3",
   "version": "3.6.7"
  }
 },
 "nbformat": 4,
 "nbformat_minor": 2
}
